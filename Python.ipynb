{
 "cells": [
  {
   "cell_type": "markdown",
   "id": "6728a3a1",
   "metadata": {},
   "source": [
    "# Python"
   ]
  },
  {
   "cell_type": "code",
   "execution_count": 4,
   "id": "32a1b0ea",
   "metadata": {},
   "outputs": [
    {
     "name": "stdout",
     "output_type": "stream",
     "text": [
      "Shut the freak up! Shirt's up now.\n"
     ]
    }
   ],
   "source": [
    "print(\"Shut the freak up! \" + \"Shirt's up now.\")"
   ]
  },
  {
   "cell_type": "markdown",
   "id": "974f85b1",
   "metadata": {},
   "source": [
    "## Variables"
   ]
  },
  {
   "cell_type": "code",
   "execution_count": 10,
   "id": "f1a498ba",
   "metadata": {},
   "outputs": [
    {
     "name": "stdout",
     "output_type": "stream",
     "text": [
      "<class 'int'>  --  3\n",
      "<class 'float'>  --  3.0\n",
      "<class 'str'>  --  3\n"
     ]
    }
   ],
   "source": [
    "x = int(3)\n",
    "y = float(3)\n",
    "z = str(3)\n",
    "\n",
    "for a in [x, y, z]:\n",
    "    print(type(a), ' -- ', a)"
   ]
  },
  {
   "cell_type": "markdown",
   "id": "424430af",
   "metadata": {},
   "source": [
    "### Dictionary"
   ]
  },
  {
   "cell_type": "code",
   "execution_count": 11,
   "id": "2ab00d8d",
   "metadata": {},
   "outputs": [],
   "source": [
    "car = {\n",
    "    'brand': 'Ford',\n",
    "    'model': 'Mustang',\n",
    "    'year': 1964\n",
    "}"
   ]
  },
  {
   "cell_type": "code",
   "execution_count": 13,
   "id": "26e20d56",
   "metadata": {},
   "outputs": [
    {
     "data": {
      "text/plain": [
       "'Mustang'"
      ]
     },
     "execution_count": 13,
     "metadata": {},
     "output_type": "execute_result"
    }
   ],
   "source": [
    "car['model']"
   ]
  },
  {
   "cell_type": "markdown",
   "id": "0fe910ef",
   "metadata": {},
   "source": [
    "### Mutable"
   ]
  },
  {
   "cell_type": "markdown",
   "id": "6722ed21",
   "metadata": {},
   "source": [
    "Mutable objects are of type `list`, `dict`, or `set`. Custom classes are generally mutable."
   ]
  },
  {
   "cell_type": "code",
   "execution_count": 15,
   "id": "ecd2dbad",
   "metadata": {},
   "outputs": [
    {
     "data": {
      "text/plain": [
       "[1, 2, 3, 'Four']"
      ]
     },
     "execution_count": 15,
     "metadata": {},
     "output_type": "execute_result"
    }
   ],
   "source": [
    "myList = [1, 2, 3]\n",
    "myList.append('Four')\n",
    "myList"
   ]
  },
  {
   "cell_type": "markdown",
   "id": "3d5c719a",
   "metadata": {},
   "source": [
    "### Immutable"
   ]
  },
  {
   "cell_type": "markdown",
   "id": "0bdae3d3",
   "metadata": {},
   "source": [
    "Immutable objects are of in-built datatypes like `int`, `float`, `bool`, `string`, `unicode` & `tuple`. They can't be changed after it is created."
   ]
  },
  {
   "cell_type": "code",
   "execution_count": 19,
   "id": "a6019a2c",
   "metadata": {},
   "outputs": [
    {
     "ename": "TypeError",
     "evalue": "'tuple' object does not support item assignment",
     "output_type": "error",
     "traceback": [
      "\u001b[1;31m---------------------------------------------------------------------------\u001b[0m",
      "\u001b[1;31mTypeError\u001b[0m                                 Traceback (most recent call last)",
      "Input \u001b[1;32mIn [19]\u001b[0m, in \u001b[0;36m<cell line: 2>\u001b[1;34m()\u001b[0m\n\u001b[0;32m      1\u001b[0m myTuple \u001b[38;5;241m=\u001b[39m (\u001b[38;5;241m0\u001b[39m, \u001b[38;5;241m1\u001b[39m, \u001b[38;5;241m2\u001b[39m)\n\u001b[1;32m----> 2\u001b[0m \u001b[43mmyTuple\u001b[49m\u001b[43m[\u001b[49m\u001b[38;5;241;43m0\u001b[39;49m\u001b[43m]\u001b[49m \u001b[38;5;241m=\u001b[39m \u001b[38;5;241m4\u001b[39m\n\u001b[0;32m      3\u001b[0m myTuple\n",
      "\u001b[1;31mTypeError\u001b[0m: 'tuple' object does not support item assignment"
     ]
    }
   ],
   "source": [
    "myTuple = (0, 1, 2)\n",
    "myTuple[0] = 4\n",
    "myTuple"
   ]
  },
  {
   "cell_type": "code",
   "execution_count": 22,
   "id": "f858cb36",
   "metadata": {},
   "outputs": [
    {
     "ename": "TypeError",
     "evalue": "'str' object does not support item assignment",
     "output_type": "error",
     "traceback": [
      "\u001b[1;31m---------------------------------------------------------------------------\u001b[0m",
      "\u001b[1;31mTypeError\u001b[0m                                 Traceback (most recent call last)",
      "Input \u001b[1;32mIn [22]\u001b[0m, in \u001b[0;36m<cell line: 2>\u001b[1;34m()\u001b[0m\n\u001b[0;32m      1\u001b[0m cat \u001b[38;5;241m=\u001b[39m \u001b[38;5;124m'\u001b[39m\u001b[38;5;124mdog\u001b[39m\u001b[38;5;124m'\u001b[39m\n\u001b[1;32m----> 2\u001b[0m \u001b[43mcat\u001b[49m\u001b[43m[\u001b[49m\u001b[38;5;241;43m2\u001b[39;49m\u001b[43m]\u001b[49m \u001b[38;5;241m=\u001b[39m \u001b[38;5;124m'\u001b[39m\u001b[38;5;124mt\u001b[39m\u001b[38;5;124m'\u001b[39m\n",
      "\u001b[1;31mTypeError\u001b[0m: 'str' object does not support item assignment"
     ]
    }
   ],
   "source": [
    "cat = 'dog'\n",
    "cat[2] = 't'"
   ]
  },
  {
   "cell_type": "markdown",
   "id": "d3d6f01a",
   "metadata": {},
   "source": [
    "## If...Else"
   ]
  },
  {
   "cell_type": "code",
   "execution_count": 24,
   "id": "6d80ca90",
   "metadata": {},
   "outputs": [
    {
     "name": "stdout",
     "output_type": "stream",
     "text": [
      "a & b are equal.\n"
     ]
    }
   ],
   "source": [
    "a = b = 69\n",
    "\n",
    "if a < b:\n",
    "    print(\"a is smaller than b.\")\n",
    "elif a == b:\n",
    "    print(\"a & b are equal.\")\n",
    "else:\n",
    "    print(\"a is greater than b.\")"
   ]
  },
  {
   "cell_type": "markdown",
   "id": "0b69858c",
   "metadata": {},
   "source": [
    "## Loop"
   ]
  },
  {
   "cell_type": "code",
   "execution_count": 1,
   "id": "91084bfb",
   "metadata": {},
   "outputs": [
    {
     "name": "stdout",
     "output_type": "stream",
     "text": [
      "0  -->  c\n",
      "1  -->  a\n",
      "2  -->  t\n"
     ]
    }
   ],
   "source": [
    "cat = ['c', 'a', 't']\n",
    "\n",
    "for i in range(3):\n",
    "    print(i, ' --> ', cat[i])"
   ]
  },
  {
   "cell_type": "code",
   "execution_count": 3,
   "id": "2ef52ab4",
   "metadata": {},
   "outputs": [
    {
     "name": "stdout",
     "output_type": "stream",
     "text": [
      "1\n",
      "2\n",
      "3\n",
      "4\n",
      "5\n",
      "6\n"
     ]
    }
   ],
   "source": [
    "i = 1\n",
    "\n",
    "while i<7:\n",
    "    print(i)\n",
    "    i += 1"
   ]
  },
  {
   "cell_type": "markdown",
   "id": "b62aef6e",
   "metadata": {},
   "source": [
    "## Functions"
   ]
  },
  {
   "cell_type": "code",
   "execution_count": 25,
   "id": "dc637095",
   "metadata": {},
   "outputs": [],
   "source": [
    "def myFunc(x, y):\n",
    "    return x/y"
   ]
  },
  {
   "cell_type": "code",
   "execution_count": 28,
   "id": "2e09c567",
   "metadata": {},
   "outputs": [
    {
     "data": {
      "text/plain": [
       "0.5714285714285714"
      ]
     },
     "execution_count": 28,
     "metadata": {},
     "output_type": "execute_result"
    }
   ],
   "source": [
    "myFunc(4,7)"
   ]
  },
  {
   "cell_type": "code",
   "execution_count": 4,
   "id": "0267c4c5-8c54-444a-83f9-032a1c60078e",
   "metadata": {},
   "outputs": [],
   "source": [
    "# Function with parameter & return type hint.\n",
    "def myFunc2(x: float, y: float = 0.47) -> float:\n",
    "    \"\"\"\n",
    "    Returns the product of x & y.\n",
    "\n",
    "    Parameters:\n",
    "        x (float): First number.\n",
    "        y (float): Second number.\n",
    "\n",
    "    Returns:\n",
    "        x*y (float): Product of first & second number.\n",
    "    \"\"\"\n",
    "    return x*y"
   ]
  },
  {
   "cell_type": "code",
   "execution_count": 5,
   "id": "c0f6ebe8-9038-44d4-9688-e8c68608e479",
   "metadata": {},
   "outputs": [
    {
     "data": {
      "text/plain": [
       "1.974"
      ]
     },
     "execution_count": 5,
     "metadata": {},
     "output_type": "execute_result"
    }
   ],
   "source": [
    "myFunc2(4.2,)"
   ]
  },
  {
   "cell_type": "code",
   "execution_count": 6,
   "id": "2f6c0b08-3e49-4f38-b215-953288e5431d",
   "metadata": {},
   "outputs": [
    {
     "name": "stdout",
     "output_type": "stream",
     "text": [
      "Help on function myFunc2 in module __main__:\n",
      "\n",
      "myFunc2(x: float, y: float = 0.47) -> float\n",
      "    Returns the product of x & y.\n",
      "\n",
      "    Parameters:\n",
      "        x (float): First number.\n",
      "        y (float): Second number.\n",
      "\n",
      "    Returns:\n",
      "        x*y (float): Product of first & second number.\n",
      "\n"
     ]
    }
   ],
   "source": [
    "help(myFunc2)"
   ]
  },
  {
   "cell_type": "markdown",
   "id": "6c6020e5",
   "metadata": {},
   "source": [
    "## Lambda"
   ]
  },
  {
   "cell_type": "code",
   "execution_count": 29,
   "id": "b7f0ef39",
   "metadata": {},
   "outputs": [],
   "source": [
    "myFunc = lambda x,y: x/y"
   ]
  },
  {
   "cell_type": "code",
   "execution_count": 30,
   "id": "d43353aa",
   "metadata": {},
   "outputs": [
    {
     "data": {
      "text/plain": [
       "0.5714285714285714"
      ]
     },
     "execution_count": 30,
     "metadata": {},
     "output_type": "execute_result"
    }
   ],
   "source": [
    "myFunc(4,7)"
   ]
  },
  {
   "cell_type": "markdown",
   "id": "4ca60774",
   "metadata": {},
   "source": [
    "## Classes/Objects"
   ]
  },
  {
   "cell_type": "code",
   "execution_count": 41,
   "id": "c3568aa3",
   "metadata": {},
   "outputs": [],
   "source": [
    "class Person:\n",
    "    def __init__(self, name, age):\n",
    "        self.name = name\n",
    "        self.age = age\n",
    "    \n",
    "    def __str__(self):\n",
    "        return f\"{self.name}({self.age})\"\n",
    "    \n",
    "    def myFunc(self):\n",
    "        print(\"Hello my name is \" + self.name + \".\")"
   ]
  },
  {
   "cell_type": "code",
   "execution_count": 42,
   "id": "1d2e1e78",
   "metadata": {},
   "outputs": [
    {
     "name": "stdout",
     "output_type": "stream",
     "text": [
      "John(47)\n"
     ]
    }
   ],
   "source": [
    "p1 = Person(\"John\", 47)\n",
    "print(p1)"
   ]
  },
  {
   "cell_type": "code",
   "execution_count": 43,
   "id": "8a16e7f7",
   "metadata": {},
   "outputs": [
    {
     "name": "stdout",
     "output_type": "stream",
     "text": [
      "Hello my name is John.\n"
     ]
    }
   ],
   "source": [
    "p1.myFunc()"
   ]
  }
 ],
 "metadata": {
  "kernelspec": {
   "display_name": "Python 3 (ipykernel)",
   "language": "python",
   "name": "python3"
  },
  "language_info": {
   "codemirror_mode": {
    "name": "ipython",
    "version": 3
   },
   "file_extension": ".py",
   "mimetype": "text/x-python",
   "name": "python",
   "nbconvert_exporter": "python",
   "pygments_lexer": "ipython3",
   "version": "3.12.1"
  }
 },
 "nbformat": 4,
 "nbformat_minor": 5
}
